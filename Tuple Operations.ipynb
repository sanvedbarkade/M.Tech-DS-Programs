{
 "cells": [
  {
   "cell_type": "code",
   "execution_count": 4,
   "id": "78948483",
   "metadata": {},
   "outputs": [
    {
     "name": "stdout",
     "output_type": "stream",
     "text": [
      "First Element: 10\n"
     ]
    }
   ],
   "source": [
    "# Tuple Operations \n",
    "my_tuple = (10, 20, 30, 40, 50)\n",
    "\n",
    "print(\"First Element:\", my_tuple[0])"
   ]
  },
  {
   "cell_type": "code",
   "execution_count": 9,
   "id": "a145e09f",
   "metadata": {},
   "outputs": [
    {
     "name": "stdout",
     "output_type": "stream",
     "text": [
      "Tuple Item: 101\n",
      "Tuple Item: Alice\n",
      "Tuple Item: 89.5\n",
      "Tuple Item: True\n"
     ]
    }
   ],
   "source": [
    "mixed_tuple = (101, \"Alice\", 89.5, True)\n",
    "\n",
    "for item in mixed_tuple:\n",
    "    print(\"Tuple Item:\", item)\n",
    "\n"
   ]
  },
  {
   "cell_type": "code",
   "execution_count": 10,
   "id": "8fca287f",
   "metadata": {},
   "outputs": [
    {
     "name": "stdout",
     "output_type": "stream",
     "text": [
      "Unpacked: 1 2 3\n",
      "Nested Tuple Element: 3\n"
     ]
    }
   ],
   "source": [
    "a, b, c = (1, 2, 3)\n",
    "print(\"Unpacked:\", a, b, c)\n",
    "\n",
    "nested = ((1, 2), (3, 4), (5, 6))\n",
    "print(\"Nested Tuple Element:\", nested[1][0])\n"
   ]
  },
  {
   "cell_type": "code",
   "execution_count": null,
   "id": "5756b6b4",
   "metadata": {},
   "outputs": [],
   "source": []
  }
 ],
 "metadata": {
  "kernelspec": {
   "display_name": "Python 3 (ipykernel)",
   "language": "python",
   "name": "python3"
  },
  "language_info": {
   "codemirror_mode": {
    "name": "ipython",
    "version": 3
   },
   "file_extension": ".py",
   "mimetype": "text/x-python",
   "name": "python",
   "nbconvert_exporter": "python",
   "pygments_lexer": "ipython3",
   "version": "3.10.9"
  }
 },
 "nbformat": 4,
 "nbformat_minor": 5
}
