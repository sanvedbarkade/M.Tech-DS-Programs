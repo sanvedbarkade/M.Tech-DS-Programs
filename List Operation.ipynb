{
 "cells": [
  {
   "cell_type": "code",
   "execution_count": 6,
   "id": "39989596",
   "metadata": {},
   "outputs": [],
   "source": [
    "research_areas = [\"AI\", \"Blockchain\", \"Cloud Computing\", \"Cybersecurity\", \"Big Data\",\n",
    "                  \"IoT\", \"AR/VR\", \"Quantum Computing\", \"Data Science\", \"Edge Computing\"]"
   ]
  },
  {
   "cell_type": "code",
   "execution_count": 7,
   "id": "89f27c13",
   "metadata": {},
   "outputs": [
    {
     "name": "stdout",
     "output_type": "stream",
     "text": [
      "First 3 Research Areas: ['AI', 'Blockchain', 'Cloud Computing']\n",
      "Last 3 Research Areas: ['Quantum Computing', 'Data Science', 'Edge Computing']\n"
     ]
    }
   ],
   "source": [
    "print(\"First 3 Research Areas:\", research_areas[:3])\n",
    "print(\"Last 3 Research Areas:\", research_areas[-3:])"
   ]
  },
  {
   "cell_type": "code",
   "execution_count": 8,
   "id": "a65f4897",
   "metadata": {},
   "outputs": [
    {
     "name": "stdout",
     "output_type": "stream",
     "text": [
      "Updated Research Areas: ['AI', 'Blockchain', 'Cloud Computing', 'Cybersecurity', 'Machine Learning', 'IoT', 'AR/VR', 'Quantum Computing', 'Data Science', 'Edge Computing']\n"
     ]
    }
   ],
   "source": [
    "research_areas[4] = \"Machine Learning\"\n",
    "print(\"Updated Research Areas:\", research_areas)"
   ]
  },
  {
   "cell_type": "code",
   "execution_count": 11,
   "id": "403ab268",
   "metadata": {},
   "outputs": [],
   "source": [
    "marks = [78, 85, 92, 67, 89, 94, 73, 88]\n",
    "\n",
    "avg_marks = sum(marks) / len(marks)\n",
    "highest = max(marks)\n",
    "lowest = min(marks)"
   ]
  },
  {
   "cell_type": "code",
   "execution_count": 10,
   "id": "268d5b92",
   "metadata": {},
   "outputs": [
    {
     "name": "stdout",
     "output_type": "stream",
     "text": [
      "Average Marks: 83.25\n",
      "Highest Marks: 94\n",
      "Lowest Marks: 67\n",
      "Marks in Descending Order: [94, 92, 89, 88, 85, 78, 73, 67]\n"
     ]
    }
   ],
   "source": [
    "print(\"Average Marks:\", avg_marks)\n",
    "print(\"Highest Marks:\", highest)\n",
    "print(\"Lowest Marks:\", lowest)\n",
    "marks.sort(reverse=True)\n",
    "print(\"Marks in Descending Order:\", marks)"
   ]
  },
  {
   "cell_type": "code",
   "execution_count": null,
   "id": "ce61873c",
   "metadata": {},
   "outputs": [],
   "source": []
  }
 ],
 "metadata": {
  "kernelspec": {
   "display_name": "Python 3 (ipykernel)",
   "language": "python",
   "name": "python3"
  },
  "language_info": {
   "codemirror_mode": {
    "name": "ipython",
    "version": 3
   },
   "file_extension": ".py",
   "mimetype": "text/x-python",
   "name": "python",
   "nbconvert_exporter": "python",
   "pygments_lexer": "ipython3",
   "version": "3.10.9"
  }
 },
 "nbformat": 4,
 "nbformat_minor": 5
}
