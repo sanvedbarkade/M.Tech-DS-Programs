{
 "cells": [
  {
   "cell_type": "code",
   "execution_count": 3,
   "id": "c082fcd4",
   "metadata": {},
   "outputs": [],
   "source": [
    "import pandas as pd\n",
    "import statsmodels.api as sm\n",
    "\n"
   ]
  },
  {
   "cell_type": "code",
   "execution_count": 4,
   "id": "aa56b695",
   "metadata": {},
   "outputs": [],
   "source": [
    "ds=pd.read_csv(\"mul_predictive_analysis - mul_predictive_analysis.csv\")"
   ]
  },
  {
   "cell_type": "code",
   "execution_count": 5,
   "id": "4070a2a2",
   "metadata": {},
   "outputs": [
    {
     "data": {
      "text/html": [
       "<div>\n",
       "<style scoped>\n",
       "    .dataframe tbody tr th:only-of-type {\n",
       "        vertical-align: middle;\n",
       "    }\n",
       "\n",
       "    .dataframe tbody tr th {\n",
       "        vertical-align: top;\n",
       "    }\n",
       "\n",
       "    .dataframe thead th {\n",
       "        text-align: right;\n",
       "    }\n",
       "</style>\n",
       "<table border=\"1\" class=\"dataframe\">\n",
       "  <thead>\n",
       "    <tr style=\"text-align: right;\">\n",
       "      <th></th>\n",
       "      <th>price</th>\n",
       "      <th>sqft_living</th>\n",
       "      <th>bedrooms</th>\n",
       "      <th>bathrooms</th>\n",
       "      <th>flooors</th>\n",
       "    </tr>\n",
       "  </thead>\n",
       "  <tbody>\n",
       "    <tr>\n",
       "      <th>0</th>\n",
       "      <td>221900.0</td>\n",
       "      <td>1180</td>\n",
       "      <td>3</td>\n",
       "      <td>1.00</td>\n",
       "      <td>2.0</td>\n",
       "    </tr>\n",
       "    <tr>\n",
       "      <th>1</th>\n",
       "      <td>538000.0</td>\n",
       "      <td>2570</td>\n",
       "      <td>3</td>\n",
       "      <td>2.25</td>\n",
       "      <td>1.0</td>\n",
       "    </tr>\n",
       "    <tr>\n",
       "      <th>2</th>\n",
       "      <td>180000.0</td>\n",
       "      <td>770</td>\n",
       "      <td>2</td>\n",
       "      <td>1.00</td>\n",
       "      <td>1.0</td>\n",
       "    </tr>\n",
       "    <tr>\n",
       "      <th>3</th>\n",
       "      <td>604000.0</td>\n",
       "      <td>1960</td>\n",
       "      <td>4</td>\n",
       "      <td>3.00</td>\n",
       "      <td>1.0</td>\n",
       "    </tr>\n",
       "    <tr>\n",
       "      <th>4</th>\n",
       "      <td>510000.0</td>\n",
       "      <td>1680</td>\n",
       "      <td>3</td>\n",
       "      <td>2.00</td>\n",
       "      <td>1.0</td>\n",
       "    </tr>\n",
       "    <tr>\n",
       "      <th>...</th>\n",
       "      <td>...</td>\n",
       "      <td>...</td>\n",
       "      <td>...</td>\n",
       "      <td>...</td>\n",
       "      <td>...</td>\n",
       "    </tr>\n",
       "    <tr>\n",
       "      <th>567</th>\n",
       "      <td>671500.0</td>\n",
       "      <td>2160</td>\n",
       "      <td>5</td>\n",
       "      <td>2.75</td>\n",
       "      <td>1.5</td>\n",
       "    </tr>\n",
       "    <tr>\n",
       "      <th>568</th>\n",
       "      <td>610000.0</td>\n",
       "      <td>1180</td>\n",
       "      <td>3</td>\n",
       "      <td>1.00</td>\n",
       "      <td>1.0</td>\n",
       "    </tr>\n",
       "    <tr>\n",
       "      <th>569</th>\n",
       "      <td>405000.0</td>\n",
       "      <td>1160</td>\n",
       "      <td>2</td>\n",
       "      <td>0.75</td>\n",
       "      <td>2.0</td>\n",
       "    </tr>\n",
       "    <tr>\n",
       "      <th>570</th>\n",
       "      <td>338900.0</td>\n",
       "      <td>1830</td>\n",
       "      <td>4</td>\n",
       "      <td>2.50</td>\n",
       "      <td>2.0</td>\n",
       "    </tr>\n",
       "    <tr>\n",
       "      <th>571</th>\n",
       "      <td>720000.0</td>\n",
       "      <td>3200</td>\n",
       "      <td>4</td>\n",
       "      <td>4.00</td>\n",
       "      <td>1.5</td>\n",
       "    </tr>\n",
       "  </tbody>\n",
       "</table>\n",
       "<p>572 rows × 5 columns</p>\n",
       "</div>"
      ],
      "text/plain": [
       "        price  sqft_living  bedrooms  bathrooms  flooors\n",
       "0    221900.0         1180         3       1.00      2.0\n",
       "1    538000.0         2570         3       2.25      1.0\n",
       "2    180000.0          770         2       1.00      1.0\n",
       "3    604000.0         1960         4       3.00      1.0\n",
       "4    510000.0         1680         3       2.00      1.0\n",
       "..        ...          ...       ...        ...      ...\n",
       "567  671500.0         2160         5       2.75      1.5\n",
       "568  610000.0         1180         3       1.00      1.0\n",
       "569  405000.0         1160         2       0.75      2.0\n",
       "570  338900.0         1830         4       2.50      2.0\n",
       "571  720000.0         3200         4       4.00      1.5\n",
       "\n",
       "[572 rows x 5 columns]"
      ]
     },
     "execution_count": 5,
     "metadata": {},
     "output_type": "execute_result"
    }
   ],
   "source": [
    "ds\n"
   ]
  },
  {
   "cell_type": "code",
   "execution_count": 6,
   "id": "cea77d74",
   "metadata": {},
   "outputs": [
    {
     "data": {
      "text/html": [
       "<div>\n",
       "<style scoped>\n",
       "    .dataframe tbody tr th:only-of-type {\n",
       "        vertical-align: middle;\n",
       "    }\n",
       "\n",
       "    .dataframe tbody tr th {\n",
       "        vertical-align: top;\n",
       "    }\n",
       "\n",
       "    .dataframe thead th {\n",
       "        text-align: right;\n",
       "    }\n",
       "</style>\n",
       "<table border=\"1\" class=\"dataframe\">\n",
       "  <thead>\n",
       "    <tr style=\"text-align: right;\">\n",
       "      <th></th>\n",
       "      <th>price</th>\n",
       "      <th>sqft_living</th>\n",
       "      <th>bedrooms</th>\n",
       "      <th>bathrooms</th>\n",
       "      <th>flooors</th>\n",
       "    </tr>\n",
       "  </thead>\n",
       "  <tbody>\n",
       "    <tr>\n",
       "      <th>0</th>\n",
       "      <td>221900.0</td>\n",
       "      <td>1180</td>\n",
       "      <td>3</td>\n",
       "      <td>1.00</td>\n",
       "      <td>2.0</td>\n",
       "    </tr>\n",
       "    <tr>\n",
       "      <th>1</th>\n",
       "      <td>538000.0</td>\n",
       "      <td>2570</td>\n",
       "      <td>3</td>\n",
       "      <td>2.25</td>\n",
       "      <td>1.0</td>\n",
       "    </tr>\n",
       "    <tr>\n",
       "      <th>2</th>\n",
       "      <td>180000.0</td>\n",
       "      <td>770</td>\n",
       "      <td>2</td>\n",
       "      <td>1.00</td>\n",
       "      <td>1.0</td>\n",
       "    </tr>\n",
       "    <tr>\n",
       "      <th>3</th>\n",
       "      <td>604000.0</td>\n",
       "      <td>1960</td>\n",
       "      <td>4</td>\n",
       "      <td>3.00</td>\n",
       "      <td>1.0</td>\n",
       "    </tr>\n",
       "    <tr>\n",
       "      <th>4</th>\n",
       "      <td>510000.0</td>\n",
       "      <td>1680</td>\n",
       "      <td>3</td>\n",
       "      <td>2.00</td>\n",
       "      <td>1.0</td>\n",
       "    </tr>\n",
       "  </tbody>\n",
       "</table>\n",
       "</div>"
      ],
      "text/plain": [
       "      price  sqft_living  bedrooms  bathrooms  flooors\n",
       "0  221900.0         1180         3       1.00      2.0\n",
       "1  538000.0         2570         3       2.25      1.0\n",
       "2  180000.0          770         2       1.00      1.0\n",
       "3  604000.0         1960         4       3.00      1.0\n",
       "4  510000.0         1680         3       2.00      1.0"
      ]
     },
     "execution_count": 6,
     "metadata": {},
     "output_type": "execute_result"
    }
   ],
   "source": [
    "ds.head()"
   ]
  },
  {
   "cell_type": "code",
   "execution_count": 7,
   "id": "603c931d",
   "metadata": {},
   "outputs": [
    {
     "name": "stdout",
     "output_type": "stream",
     "text": [
      "<class 'pandas.core.frame.DataFrame'>\n",
      "RangeIndex: 572 entries, 0 to 571\n",
      "Data columns (total 5 columns):\n",
      " #   Column       Non-Null Count  Dtype  \n",
      "---  ------       --------------  -----  \n",
      " 0   price        572 non-null    float64\n",
      " 1   sqft_living  572 non-null    int64  \n",
      " 2   bedrooms     572 non-null    int64  \n",
      " 3   bathrooms    572 non-null    float64\n",
      " 4   flooors      572 non-null    float64\n",
      "dtypes: float64(3), int64(2)\n",
      "memory usage: 22.5 KB\n"
     ]
    }
   ],
   "source": [
    "ds.info()"
   ]
  },
  {
   "cell_type": "code",
   "execution_count": 11,
   "id": "88ab83f5",
   "metadata": {},
   "outputs": [
    {
     "data": {
      "text/plain": [
       "(572, 5)"
      ]
     },
     "execution_count": 11,
     "metadata": {},
     "output_type": "execute_result"
    }
   ],
   "source": [
    "y=ds.price\n",
    "x=ds[['sqft_living','bedrooms','bathrooms','flooors']]\n",
    "ds.shape"
   ]
  },
  {
   "cell_type": "code",
   "execution_count": 12,
   "id": "e8aba3e7",
   "metadata": {},
   "outputs": [
    {
     "data": {
      "text/html": [
       "<div>\n",
       "<style scoped>\n",
       "    .dataframe tbody tr th:only-of-type {\n",
       "        vertical-align: middle;\n",
       "    }\n",
       "\n",
       "    .dataframe tbody tr th {\n",
       "        vertical-align: top;\n",
       "    }\n",
       "\n",
       "    .dataframe thead th {\n",
       "        text-align: right;\n",
       "    }\n",
       "</style>\n",
       "<table border=\"1\" class=\"dataframe\">\n",
       "  <thead>\n",
       "    <tr style=\"text-align: right;\">\n",
       "      <th></th>\n",
       "      <th>price</th>\n",
       "      <th>sqft_living</th>\n",
       "      <th>bedrooms</th>\n",
       "      <th>bathrooms</th>\n",
       "      <th>flooors</th>\n",
       "    </tr>\n",
       "  </thead>\n",
       "  <tbody>\n",
       "    <tr>\n",
       "      <th>price</th>\n",
       "      <td>1.000000</td>\n",
       "      <td>0.718698</td>\n",
       "      <td>0.342519</td>\n",
       "      <td>0.517148</td>\n",
       "      <td>0.046091</td>\n",
       "    </tr>\n",
       "    <tr>\n",
       "      <th>sqft_living</th>\n",
       "      <td>0.718698</td>\n",
       "      <td>1.000000</td>\n",
       "      <td>0.580489</td>\n",
       "      <td>0.750811</td>\n",
       "      <td>0.065390</td>\n",
       "    </tr>\n",
       "    <tr>\n",
       "      <th>bedrooms</th>\n",
       "      <td>0.342519</td>\n",
       "      <td>0.580489</td>\n",
       "      <td>1.000000</td>\n",
       "      <td>0.503037</td>\n",
       "      <td>-0.021199</td>\n",
       "    </tr>\n",
       "    <tr>\n",
       "      <th>bathrooms</th>\n",
       "      <td>0.517148</td>\n",
       "      <td>0.750811</td>\n",
       "      <td>0.503037</td>\n",
       "      <td>1.000000</td>\n",
       "      <td>0.072259</td>\n",
       "    </tr>\n",
       "    <tr>\n",
       "      <th>flooors</th>\n",
       "      <td>0.046091</td>\n",
       "      <td>0.065390</td>\n",
       "      <td>-0.021199</td>\n",
       "      <td>0.072259</td>\n",
       "      <td>1.000000</td>\n",
       "    </tr>\n",
       "  </tbody>\n",
       "</table>\n",
       "</div>"
      ],
      "text/plain": [
       "                price  sqft_living  bedrooms  bathrooms   flooors\n",
       "price        1.000000     0.718698  0.342519   0.517148  0.046091\n",
       "sqft_living  0.718698     1.000000  0.580489   0.750811  0.065390\n",
       "bedrooms     0.342519     0.580489  1.000000   0.503037 -0.021199\n",
       "bathrooms    0.517148     0.750811  0.503037   1.000000  0.072259\n",
       "flooors      0.046091     0.065390 -0.021199   0.072259  1.000000"
      ]
     },
     "execution_count": 12,
     "metadata": {},
     "output_type": "execute_result"
    }
   ],
   "source": [
    "ds.corr()"
   ]
  },
  {
   "cell_type": "code",
   "execution_count": 15,
   "id": "f0a7f848",
   "metadata": {},
   "outputs": [
    {
     "data": {
      "text/plain": [
       "<Axes: >"
      ]
     },
     "execution_count": 15,
     "metadata": {},
     "output_type": "execute_result"
    },
    {
     "data": {
      "image/png": "[encoded data removed]",
      "text/plain": [
       "<Figure size 640x480 with 1 Axes>"
      ]
     },
     "metadata": {},
     "output_type": "display_data"
    }
   ],
   "source": [
    "new_feature=ds[['sqft_living','bedrooms','flooors']]\n",
    "new_feature.describe()\n",
    "ds.sqft_living.hist(bins=15)"
   ]
  },
  {
   "cell_type": "code",
   "execution_count": 17,
   "id": "d54c8b7d",
   "metadata": {},
   "outputs": [
    {
     "data": {
      "text/html": [
       "<table class=\"simpletable\">\n",
       "<caption>OLS Regression Results</caption>\n",
       "<tr>\n",
       "  <th>Dep. Variable:</th>          <td>price</td>      <th>  R-squared:         </th> <td>   0.525</td> \n",
       "</tr>\n",
       "<tr>\n",
       "  <th>Model:</th>                   <td>OLS</td>       <th>  Adj. R-squared:    </th> <td>   0.522</td> \n",
       "</tr>\n",
       "<tr>\n",
       "  <th>Method:</th>             <td>Least Squares</td>  <th>  F-statistic:       </th> <td>   209.3</td> \n",
       "</tr>\n",
       "<tr>\n",
       "  <th>Date:</th>             <td>Mon, 25 Aug 2025</td> <th>  Prob (F-statistic):</th> <td>2.10e-91</td> \n",
       "</tr>\n",
       "<tr>\n",
       "  <th>Time:</th>                 <td>12:20:07</td>     <th>  Log-Likelihood:    </th> <td> -7922.2</td> \n",
       "</tr>\n",
       "<tr>\n",
       "  <th>No. Observations:</th>      <td>   572</td>      <th>  AIC:               </th> <td>1.585e+04</td>\n",
       "</tr>\n",
       "<tr>\n",
       "  <th>Df Residuals:</th>          <td>   568</td>      <th>  BIC:               </th> <td>1.587e+04</td>\n",
       "</tr>\n",
       "<tr>\n",
       "  <th>Df Model:</th>              <td>     3</td>      <th>                     </th>     <td> </td>    \n",
       "</tr>\n",
       "<tr>\n",
       "  <th>Covariance Type:</th>      <td>nonrobust</td>    <th>                     </th>     <td> </td>    \n",
       "</tr>\n",
       "</table>\n",
       "<table class=\"simpletable\">\n",
       "<tr>\n",
       "       <td></td>          <th>coef</th>     <th>std err</th>      <th>t</th>      <th>P>|t|</th>  <th>[0.025</th>    <th>0.975]</th>  \n",
       "</tr>\n",
       "<tr>\n",
       "  <th>const</th>       <td> 6.433e+04</td> <td> 5.27e+04</td> <td>    1.220</td> <td> 0.223</td> <td>-3.92e+04</td> <td> 1.68e+05</td>\n",
       "</tr>\n",
       "<tr>\n",
       "  <th>sqft_living</th> <td>  302.1488</td> <td>   13.733</td> <td>   22.002</td> <td> 0.000</td> <td>  275.175</td> <td>  329.122</td>\n",
       "</tr>\n",
       "<tr>\n",
       "  <th>bedrooms</th>    <td>-4.762e+04</td> <td>  1.5e+04</td> <td>   -3.182</td> <td> 0.002</td> <td> -7.7e+04</td> <td>-1.82e+04</td>\n",
       "</tr>\n",
       "<tr>\n",
       "  <th>flooors</th>     <td>-5535.4562</td> <td> 2.11e+04</td> <td>   -0.263</td> <td> 0.793</td> <td>-4.69e+04</td> <td> 3.58e+04</td>\n",
       "</tr>\n",
       "</table>\n",
       "<table class=\"simpletable\">\n",
       "<tr>\n",
       "  <th>Omnibus:</th>       <td>330.312</td> <th>  Durbin-Watson:     </th> <td>   2.102</td>\n",
       "</tr>\n",
       "<tr>\n",
       "  <th>Prob(Omnibus):</th> <td> 0.000</td>  <th>  Jarque-Bera (JB):  </th> <td>3887.887</td>\n",
       "</tr>\n",
       "<tr>\n",
       "  <th>Skew:</th>          <td> 2.319</td>  <th>  Prob(JB):          </th> <td>    0.00</td>\n",
       "</tr>\n",
       "<tr>\n",
       "  <th>Kurtosis:</th>      <td>14.900</td>  <th>  Cond. No.          </th> <td>1.22e+04</td>\n",
       "</tr>\n",
       "</table><br/><br/>Notes:<br/>[1] Standard Errors assume that the covariance matrix of the errors is correctly specified.<br/>[2] The condition number is large, 1.22e+04. This might indicate that there are<br/>strong multicollinearity or other numerical problems."
      ],
      "text/plain": [
       "<class 'statsmodels.iolib.summary.Summary'>\n",
       "\"\"\"\n",
       "                            OLS Regression Results                            \n",
       "==============================================================================\n",
       "Dep. Variable:                  price   R-squared:                       0.525\n",
       "Model:                            OLS   Adj. R-squared:                  0.522\n",
       "Method:                 Least Squares   F-statistic:                     209.3\n",
       "Date:                Mon, 25 Aug 2025   Prob (F-statistic):           2.10e-91\n",
       "Time:                        12:20:07   Log-Likelihood:                -7922.2\n",
       "No. Observations:                 572   AIC:                         1.585e+04\n",
       "Df Residuals:                     568   BIC:                         1.587e+04\n",
       "Df Model:                           3                                         \n",
       "Covariance Type:            nonrobust                                         \n",
       "===============================================================================\n",
       "                  coef    std err          t      P>|t|      [0.025      0.975]\n",
       "-------------------------------------------------------------------------------\n",
       "const        6.433e+04   5.27e+04      1.220      0.223   -3.92e+04    1.68e+05\n",
       "sqft_living   302.1488     13.733     22.002      0.000     275.175     329.122\n",
       "bedrooms    -4.762e+04    1.5e+04     -3.182      0.002    -7.7e+04   -1.82e+04\n",
       "flooors     -5535.4562   2.11e+04     -0.263      0.793   -4.69e+04    3.58e+04\n",
       "==============================================================================\n",
       "Omnibus:                      330.312   Durbin-Watson:                   2.102\n",
       "Prob(Omnibus):                  0.000   Jarque-Bera (JB):             3887.887\n",
       "Skew:                           2.319   Prob(JB):                         0.00\n",
       "Kurtosis:                      14.900   Cond. No.                     1.22e+04\n",
       "==============================================================================\n",
       "\n",
       "Notes:\n",
       "[1] Standard Errors assume that the covariance matrix of the errors is correctly specified.\n",
       "[2] The condition number is large, 1.22e+04. This might indicate that there are\n",
       "strong multicollinearity or other numerical problems.\n",
       "\"\"\""
      ]
     },
     "execution_count": 17,
     "metadata": {},
     "output_type": "execute_result"
    }
   ],
   "source": [
    "x1 = new_feature\n",
    "x2 = sm.add_constant(x1)\n",
    "model=sm.OLS(y,x2).fit()\n",
    "model.summary()"
   ]
  },
  {
   "cell_type": "code",
   "execution_count": 18,
   "id": "2b43ad7a",
   "metadata": {},
   "outputs": [],
   "source": [
    "########################################"
   ]
  },
  {
   "cell_type": "code",
   "execution_count": 23,
   "id": "2545d5af",
   "metadata": {},
   "outputs": [
    {
     "data": {
      "image/png": "[encoded data removed]",
      "text/plain": [
       "<Figure size 640x480 with 1 Axes>"
      ]
     },
     "metadata": {},
     "output_type": "display_data"
    }
   ],
   "source": [
    "import matplotlib.pyplot as plt\n",
    "X = [2,3,4,5,8,10,13,15,18,20,18,23]\n",
    "Y = [60,62,63,65,65,68,69,70,71,72,73,74]\n",
    "\n",
    "plt.scatter(X, Y,color='orange')\n",
    "plt.show()"
   ]
  },
  {
   "cell_type": "code",
   "execution_count": 33,
   "id": "eace4415",
   "metadata": {},
   "outputs": [
    {
     "data": {
      "image/png": "[encoded data removed]",
      "text/plain": [
       "<Figure size 640x480 with 1 Axes>"
      ]
     },
     "metadata": {},
     "output_type": "display_data"
    },
    {
     "data": {
      "text/plain": [
       "[61.73484957535627,\n",
       " 62.35382179357997,\n",
       " 62.97279401180366,\n",
       " 63.59176623002735,\n",
       " 65.44868288469843,\n",
       " 66.68662732114582,\n",
       " 68.5435439758169,\n",
       " 69.7814884122643,\n",
       " 71.63840506693538,\n",
       " 72.87634950338276,\n",
       " 71.63840506693538,\n",
       " 74.73326615805384]"
      ]
     },
     "execution_count": 33,
     "metadata": {},
     "output_type": "execute_result"
    }
   ],
   "source": [
    "from scipy import stats\n",
    "\n",
    "\n",
    "slope, intercept, r, p, std_err = stats.linregress(X,Y)\n",
    "\n",
    "def f1(X):\n",
    "    return slope * X + intercept\n",
    "\n",
    "\n",
    "model1 = list(map(f1, X))\n",
    "\n",
    "plt.scatter(X,Y,color=\"gold\")\n",
    "plt.plot(X, model1)\n",
    "plt.show()\n",
    "model1"
   ]
  },
  {
   "cell_type": "code",
   "execution_count": 34,
   "id": "795b3fe2",
   "metadata": {},
   "outputs": [
    {
     "data": {
      "text/plain": [
       "60.496905138908886"
      ]
     },
     "execution_count": 34,
     "metadata": {},
     "output_type": "execute_result"
    }
   ],
   "source": [
    "intercept"
   ]
  },
  {
   "cell_type": "code",
   "execution_count": 35,
   "id": "6523d42f",
   "metadata": {},
   "outputs": [
    {
     "data": {
      "text/plain": [
       "0.9763647671024746"
      ]
     },
     "execution_count": 35,
     "metadata": {},
     "output_type": "execute_result"
    }
   ],
   "source": [
    "r"
   ]
  },
  {
   "cell_type": "code",
   "execution_count": 40,
   "id": "f35b370e",
   "metadata": {},
   "outputs": [
    {
     "data": {
      "text/plain": [
       "85.25579386785662"
      ]
     },
     "execution_count": 40,
     "metadata": {},
     "output_type": "execute_result"
    }
   ],
   "source": [
    "y_pred=f1(40)\n",
    "y_pred"
   ]
  },
  {
   "cell_type": "code",
   "execution_count": 41,
   "id": "b7c5d5e9",
   "metadata": {},
   "outputs": [
    {
     "data": {
      "text/plain": [
       "0.6189722182236936"
      ]
     },
     "execution_count": 41,
     "metadata": {},
     "output_type": "execute_result"
    }
   ],
   "source": [
    "slope"
   ]
  },
  {
   "cell_type": "code",
   "execution_count": 43,
   "id": "b0f48d76",
   "metadata": {},
   "outputs": [
    {
     "name": "stdout",
     "output_type": "stream",
     "text": [
      "enter the age15\n",
      "voter can be vote\n"
     ]
    }
   ],
   "source": [
    "\n",
    "\n",
    "i = 0\n",
    "\n",
    "int(input(\"enter the age\"))\n",
    "\n",
    "if(Age < 18 ):\n",
    "    print(\"voter can be vote\")\n",
    "else:\n",
    "    print(\"voter is not valid\")\n"
   ]
  },
  {
   "cell_type": "code",
   "execution_count": 44,
   "id": "301a9096",
   "metadata": {},
   "outputs": [
    {
     "name": "stdout",
     "output_type": "stream",
     "text": [
      "Enter the first number  :\n",
      "14\n",
      "ENter the second Number : \n",
      "5\n",
      "Multiplication of both the number is :  70\n"
     ]
    }
   ],
   "source": [
    "def Multiplication(No1, No2):\n",
    "    Ans = 0\n",
    "    Ans = No1 * No2\n",
    "    return Ans\n",
    "\n",
    "def main():\n",
    "    print(\"Enter the first number  :\")\n",
    "    A = int(input())\n",
    "    \n",
    "    print(\"ENter the second Number : \")\n",
    "    B = int(input())\n",
    "    \n",
    "    Result = Multiplication(A,B)\n",
    "    print(\"Multiplication of both the number is : \",Result)\n",
    "    \n",
    "main()"
   ]
  },
  {
   "cell_type": "code",
   "execution_count": 45,
   "id": "9882090b",
   "metadata": {},
   "outputs": [
    {
     "name": "stdout",
     "output_type": "stream",
     "text": [
      "enter the aandhar number : 11\n",
      "aadhar number have diffrent format\n"
     ]
    }
   ],
   "source": [
    "Aadhar_no = 0\n",
    "\n",
    "int(input(\"enter the aandhar number : \"))\n",
    "\n",
    "if(Aadhar_no > 12):\n",
    "    print(\"aadhar number will be submit\")\n",
    "else:\n",
    "    print(\"aadhar number have diffrent format\")"
   ]
  },
  {
   "cell_type": "code",
   "execution_count": 48,
   "id": "891e70ba",
   "metadata": {},
   "outputs": [
    {
     "name": "stdout",
     "output_type": "stream",
     "text": [
      "11\n",
      "<class 'int'>\n",
      "2706224120368\n",
      "2706224120688\n",
      "2706224120368\n",
      "<class 'str'>\n",
      "2706270623472\n",
      "<class 'complex'>\n"
     ]
    }
   ],
   "source": [
    "No = 11\n",
    "\n",
    "\n",
    "print(No)\n",
    "print(type(No))\n",
    "print(id(No))\n",
    "\n",
    "X = 21\n",
    "print(id(X))\n",
    "\n",
    "Y = 11\n",
    "print(id(Y))\n",
    "\n",
    "Z = \"11\"\n",
    "print(type(Z))\n",
    "print(id(Z))\n",
    "\n",
    "A = 11\n",
    "B = 11.90\n",
    "C = \"Hello\"\n",
    "D = True\n",
    "E = 8+7j\n",
    "\n",
    "print(type(E))\n"
   ]
  },
  {
   "cell_type": "code",
   "execution_count": null,
   "id": "01f72724",
   "metadata": {},
   "outputs": [],
   "source": []
  }
 ],
 "metadata": {
  "kernelspec": {
   "display_name": "Python 3 (ipykernel)",
   "language": "python",
   "name": "python3"
  },
  "language_info": {
   "codemirror_mode": {
    "name": "ipython",
    "version": 3
   },
   "file_extension": ".py",
   "mimetype": "text/x-python",
   "name": "python",
   "nbconvert_exporter": "python",
   "pygments_lexer": "ipython3",
   "version": "3.10.9"
  }
 },
 "nbformat": 4,
 "nbformat_minor": 5
}
