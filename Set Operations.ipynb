{
 "cells": [
  {
   "cell_type": "code",
   "execution_count": 16,
   "id": "4b6c27d7",
   "metadata": {},
   "outputs": [
    {
     "name": "stdout",
     "output_type": "stream",
     "text": [
      "Updated Set: {1, 2, 4, 5, 6}\n"
     ]
    }
   ],
   "source": [
    "my_set = {1, 2, 3, 4, 5}\n",
    "\n",
    "my_set.add(6)\n",
    "my_set.remove(3)\n",
    "print(\"Updated Set:\", my_set)\n",
    "\n"
   ]
  },
  {
   "cell_type": "code",
   "execution_count": 17,
   "id": "4bf3c225",
   "metadata": {},
   "outputs": [
    {
     "name": "stdout",
     "output_type": "stream",
     "text": [
      "Union: {1, 2, 3, 4, 5, 6}\n",
      "Intersection: {3, 4}\n",
      "Difference: {1, 2}\n"
     ]
    }
   ],
   "source": [
    "set_a = {1, 2, 3, 4}\n",
    "set_b = {3, 4, 5, 6}\n",
    "print(\"Union:\", set_a | set_b)\n",
    "print(\"Intersection:\", set_a & set_b)\n",
    "print(\"Difference:\", set_a - set_b)\n",
    "\n"
   ]
  },
  {
   "cell_type": "code",
   "execution_count": 18,
   "id": "cf2ca062",
   "metadata": {},
   "outputs": [
    {
     "name": "stdout",
     "output_type": "stream",
     "text": [
      "Is 2 in set_a? True\n"
     ]
    }
   ],
   "source": [
    "print(\"Is 2 in set_a?\", 2 in set_a)\n",
    "\n"
   ]
  },
  {
   "cell_type": "code",
   "execution_count": 19,
   "id": "1ec96061",
   "metadata": {},
   "outputs": [
    {
     "name": "stdout",
     "output_type": "stream",
     "text": [
      "Unique Elements: {1, 2, 3, 4, 5}\n"
     ]
    }
   ],
   "source": [
    "dup_list = [1, 2, 2, 3, 4, 4, 5]\n",
    "unique_set = set(dup_list)\n",
    "print(\"Unique Elements:\", unique_set)\n",
    "\n"
   ]
  },
  {
   "cell_type": "code",
   "execution_count": 20,
   "id": "3f537991",
   "metadata": {},
   "outputs": [
    {
     "name": "stdout",
     "output_type": "stream",
     "text": [
      "Frozen Set: frozenset({10, 20, 30})\n"
     ]
    }
   ],
   "source": [
    "frozen = frozenset([10, 20, 30])\n",
    "print(\"Frozen Set:\", frozen)\n"
   ]
  },
  {
   "cell_type": "code",
   "execution_count": null,
   "id": "c89cb52b",
   "metadata": {},
   "outputs": [],
   "source": []
  }
 ],
 "metadata": {
  "kernelspec": {
   "display_name": "Python 3 (ipykernel)",
   "language": "python",
   "name": "python3"
  },
  "language_info": {
   "codemirror_mode": {
    "name": "ipython",
    "version": 3
   },
   "file_extension": ".py",
   "mimetype": "text/x-python",
   "name": "python",
   "nbconvert_exporter": "python",
   "pygments_lexer": "ipython3",
   "version": "3.10.9"
  }
 },
 "nbformat": 4,
 "nbformat_minor": 5
}
